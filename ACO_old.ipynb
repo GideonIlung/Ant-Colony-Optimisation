{
 "metadata": {
  "language_info": {
   "codemirror_mode": {
    "name": "ipython",
    "version": 3
   },
   "file_extension": ".py",
   "mimetype": "text/x-python",
   "name": "python",
   "nbconvert_exporter": "python",
   "pygments_lexer": "ipython3",
   "version": "3.7.4"
  },
  "orig_nbformat": 2,
  "kernelspec": {
   "name": "python3",
   "display_name": "Python 3.7.4 64-bit ('base': conda)"
  },
  "interpreter": {
   "hash": "786c5b06eff5c0cb733e4a5e8effef860a5cdaa3d5907488cb807932d0674efa"
  }
 },
 "nbformat": 4,
 "nbformat_minor": 2,
 "cells": [
  {
   "cell_type": "code",
   "execution_count": 1,
   "source": [
    "#Imports\n",
    "import numpy as np\n",
    "import random\n",
    "import pandas as pd\n",
    "from ACO import *\n",
    "from scipy.spatial import distance"
   ],
   "outputs": [],
   "metadata": {}
  },
  {
   "cell_type": "markdown",
   "source": [
    "# Ant Colony Optimisation Algorithm"
   ],
   "metadata": {}
  },
  {
   "cell_type": "markdown",
   "source": [
    "## <center> Probability matrix </center>"
   ],
   "metadata": {}
  },
  {
   "cell_type": "markdown",
   "source": [
    "Probability between vertices is given by:\n",
    "$$\\begin{equation*} P_{ij} = \\dfrac{(\\tau_{ij})^\\alpha (n(c_{ij}))^\\beta}{\\sum_{j=0}^{m} (\\tau_{ij})^\\alpha (n(c_{ij}))^\\beta }  \\end{equation*} $$\n",
    "\n",
    "\n",
    "where $c_{ij}$ is the length of the edge \n",
    "\n",
    "$\\tau_{ij}$ is the pheromone count on the edge $c_{ij}$\n",
    "\n",
    "$n(c_{ij}) = \\dfrac{1}{c_{ij}}$\n",
    "\n",
    "can be interpreted as the Probability of going to node j from i"
   ],
   "metadata": {}
  },
  {
   "cell_type": "code",
   "execution_count": 2,
   "source": [
    "def updateProbMatrix(A,P,alpha,beta):\n",
    "    \"\"\"\n",
    "        Generates the probability matrix based on the pheromone and distance matrix\n",
    "\n",
    "        Inputs\n",
    "            A     : the distance matrix\n",
    "            P     : the Pheromone Matrix\n",
    "            alpha : the Pheromone weight value\n",
    "            beta  : the distance weight value\n",
    "\n",
    "        Outputs\n",
    "            X     : the probability matrix\n",
    "    \"\"\"\n",
    "\n",
    "    n = len(A)\n",
    "\n",
    "    X = np.zeros((n,n))\n",
    "\n",
    "    for i in range(0,n,1):\n",
    "\n",
    "        #calculating the total weight across path\n",
    "        deno = 0\n",
    "\n",
    "        for j in range(0,n,1):\n",
    "\n",
    "            if(A[i,j]!=0):\n",
    "                deno += (P[i,j]**alpha)*((1/A[i,j])**beta)\n",
    "\n",
    "        #updating probability matrix\n",
    "        for j in range(0,n,1):\n",
    "            \n",
    "            if i!=j and A[i,j]!=0:\n",
    "                X[i,j] = (P[i,j]**alpha)*((1/A[i,j])**beta)/deno\n",
    "            else:\n",
    "                X[i,j] = 0\n",
    "    \n",
    "    return X"
   ],
   "outputs": [],
   "metadata": {}
  },
  {
   "cell_type": "code",
   "execution_count": 3,
   "source": [
    "#TESTING#\n",
    "A = np.array([[0,5,2,200],[5,0,100,4],[2,100,0,3],[200,4,3,0]])\n",
    "P = np.ones((4,4))\n",
    "alpha = 1\n",
    "beta = 1\n",
    "Prob = updateProbMatrix(A,P,alpha,beta)\n",
    "Prob"
   ],
   "outputs": [
    {
     "output_type": "execute_result",
     "data": {
      "text/plain": [
       "array([[0.        , 0.28368794, 0.70921986, 0.0070922 ],\n",
       "       [0.43478261, 0.        , 0.02173913, 0.54347826],\n",
       "       [0.59288538, 0.01185771, 0.        , 0.39525692],\n",
       "       [0.00849858, 0.42492918, 0.56657224, 0.        ]])"
      ]
     },
     "metadata": {},
     "execution_count": 3
    }
   ],
   "metadata": {}
  },
  {
   "cell_type": "markdown",
   "source": [
    "## <center> Accumulator</center>\n",
    "\n",
    "generates the Accumulator vector. which is basically the sum of itself and all the probabilities to the right of it\n",
    "\n",
    "for example given the probabilities $v = [0.76,0.19,0.05]$ \n",
    "\n",
    "the Accumulative vector will be $u = [1,0.24,0.05]$\n",
    "\n",
    "after this a random number will be generated. $r \\in [0,1]$\n",
    "\n",
    "then the function will return the index in which r is inbetween the vector u\n",
    "\n",
    "for example if $ 0.24 \\leq r \\leq 1 $ the function will return 0"
   ],
   "metadata": {}
  },
  {
   "cell_type": "code",
   "execution_count": 4,
   "source": [
    "def accumulator(v):\n",
    "    \"\"\"\n",
    "        Creates the accumulator vector from the input given\n",
    "    \"\"\"\n",
    "\n",
    "    u = []\n",
    "\n",
    "    for i in range(len(v)):\n",
    "        temp = sum(v[i:])\n",
    "        u.append(temp)\n",
    "\n",
    "    r = random.uniform(0,u[0])\n",
    "    index = -1\n",
    "\n",
    "    for i in range(0,len(u),1):\n",
    "        \n",
    "        if i!=len(u)-1:\n",
    "            if (r<=u[i]) and (r>u[i+1]):\n",
    "                index = i\n",
    "                break\n",
    "        else:\n",
    "            if (r>0) and (r<=u[-1]):\n",
    "                index = i\n",
    "\n",
    "    return index"
   ],
   "outputs": [],
   "metadata": {}
  },
  {
   "cell_type": "code",
   "execution_count": 5,
   "source": [
    "#TESTING\n",
    "#v = [0.76,0.19,0.05]\n",
    "v = [0,0.28368794,0.70921986,0.0070922]\n",
    "accumulator(v)"
   ],
   "outputs": [
    {
     "output_type": "execute_result",
     "data": {
      "text/plain": [
       "2"
      ]
     },
     "metadata": {},
     "execution_count": 5
    }
   ],
   "metadata": {}
  },
  {
   "cell_type": "markdown",
   "source": [
    "## probability shifter"
   ],
   "metadata": {}
  },
  {
   "cell_type": "code",
   "execution_count": 6,
   "source": [
    "def prob_shift(v,index):\n",
    "    \"\"\"\n",
    "        reduces the probability of selecting the node at index, whilst increase the probability of possible nodes\n",
    "\n",
    "        Inputs:\n",
    "            v     : the row coresponding to the agents location\n",
    "            index : the starting index of the agent\n",
    "\n",
    "        ouputs:\n",
    "            u     : the adjusted probability vector\n",
    "    \"\"\"\n",
    "\n",
    "    #METHOD 1#\n",
    "    u = np.copy(v)\n",
    "\n",
    "    try: \n",
    "        u[index] = np.min(v[np.nonzero(v)])/2\n",
    "    except ValueError:\n",
    "        pass\n",
    "\n",
    "    #METHOD 2#\n",
    "    # n = len(np.nonzero(v)[0])\n",
    "    # u = []\n",
    "\n",
    "    # if n > 1:\n",
    "    #     r = v[index]/n\n",
    "    #     add = (v[index]-r)/(n-1)\n",
    "\n",
    "    #     for i in range(len(v)):\n",
    "\n",
    "    #         if i == index:\n",
    "    #             u.append(r)\n",
    "    #         elif v[i] !=0:\n",
    "    #             value = v[i] + add\n",
    "    #             u.append(value)\n",
    "    #         else:\n",
    "    #             u.append(0)\n",
    "        \n",
    "    #     return np.array(u)\n",
    "\n",
    "    # else:\n",
    "    #     return v\n",
    "\n",
    "    return u"
   ],
   "outputs": [],
   "metadata": {}
  },
  {
   "cell_type": "code",
   "execution_count": 7,
   "source": [
    "def ant_path(A,Prob,Q,start):\n",
    "    \"\"\"\n",
    "        Calculates the path the ant with take\n",
    "\n",
    "        Inputs:\n",
    "            A    : the Distance matrix\n",
    "            Prob : the probability matrix\n",
    "\n",
    "        output:\n",
    "            C    : a matrix with 1/d at the edges the ant passed. where d is the distance traveled \n",
    "    \"\"\"\n",
    "\n",
    "    n = len(A)\n",
    "    P = np.copy(Prob)\n",
    "    C = np.zeros((n,n))\n",
    "    distance = 0\n",
    "    path = []\n",
    "    i = start\n",
    "    count = 0\n",
    "\n",
    "    while count<n:\n",
    "\n",
    "        v = P[i,:]\n",
    "        \n",
    "        #reducing the probability of going to start#\n",
    "        if i!=start and count<n-1:\n",
    "            v = prob_shift(v,start)\n",
    "\n",
    "        j = accumulator(v)\n",
    "        distance+= A[i][j]\n",
    "        path.append([i,j])\n",
    "\n",
    "        #making sure ant doesnt visit same node twice\n",
    "        if i!=start:\n",
    "            P[:,i] = 0\n",
    "\n",
    "        i = j\n",
    "        count+=1\n",
    "\n",
    "    for x in range(0,len(path),1):\n",
    "        [i,j] = path[x]\n",
    "        C[i,j] += Q/distance \n",
    "\n",
    "    \n",
    "    valid = False\n",
    "    if len(path) and path[-1][1] == start:\n",
    "        valid = True\n",
    "    \n",
    "\n",
    "    return distance,C,valid     "
   ],
   "outputs": [],
   "metadata": {}
  },
  {
   "cell_type": "code",
   "execution_count": 8,
   "source": [
    "#TESTING#\n",
    "A = np.array([[0,5,2,200],[5,0,100,4],[2,100,0,3],[200,4,3,0]])\n",
    "P = np.ones((4,4))\n",
    "alpha = 1\n",
    "beta = 1\n",
    "Prob = updateProbMatrix(A,P,alpha,beta)\n",
    "ant_path(A,Prob,Q = 1,start = 0)"
   ],
   "outputs": [
    {
     "output_type": "execute_result",
     "data": {
      "text/plain": [
       "(14,\n",
       " array([[0.        , 0.        , 0.07142857, 0.        ],\n",
       "        [0.07142857, 0.        , 0.        , 0.        ],\n",
       "        [0.        , 0.        , 0.        , 0.07142857],\n",
       "        [0.        , 0.07142857, 0.        , 0.        ]]),\n",
       " True)"
      ]
     },
     "metadata": {},
     "execution_count": 8
    }
   ],
   "metadata": {}
  },
  {
   "cell_type": "code",
   "execution_count": 9,
   "source": [
    "def final_walk(A,Prob):\n",
    "    \"\"\"\n",
    "        Calculates the path the last ant with take\n",
    "\n",
    "        Inputs:\n",
    "            A    : the Distance matrix\n",
    "            Prob : the probability matrix\n",
    "\n",
    "        output:\n",
    "            C    : a matrix with 1/d at the edges the ant passed. where d is the distance traveled \n",
    "    \"\"\"\n",
    "\n",
    "    n = len(A)\n",
    "    P = np.copy(Prob)\n",
    "    C = np.zeros((n,n))\n",
    "    distance = 0\n",
    "    path = []\n",
    "    i = 0\n",
    "    count = 0\n",
    "\n",
    "    while count<n:\n",
    "\n",
    "        v = P[i,:]\n",
    "        \n",
    "        #reducing the probability of going to start#\n",
    "        if i!=0 and count<n-1:\n",
    "            v = prob_shift(v,0)\n",
    "\n",
    "        j = accumulator(v)\n",
    "        distance+= A[i][j]\n",
    "\n",
    "        if j!=-1:\n",
    "            path.append([i,j])\n",
    "\n",
    "        if j == 0:\n",
    "            break\n",
    "        #making sure ant doesnt visit same node twice\n",
    "        if i!=0:\n",
    "            P[:,i] = 0\n",
    "\n",
    "        # P[:,i] = 0\n",
    "        i = j\n",
    "        count+=1\n",
    "\n",
    "    return distance,path"
   ],
   "outputs": [],
   "metadata": {}
  },
  {
   "cell_type": "code",
   "execution_count": 10,
   "source": [
    "def updateThreshold(Global_max,temp_max,temp_dist):\n",
    "\n",
    "    \"\"\"\n",
    "        updates the threshold of accepted distances allowed \n",
    "    \"\"\"\n",
    "\n",
    "    new_min = Global_min\n",
    "    new_max = Global_max\n",
    "\n",
    "    if(Global_min == None and Global_max == None):\n",
    "        return temp_min,temp_max\n",
    "\n",
    "    if(temp_min < Global_min):\n",
    "        new_min = temp_min\n",
    "    \n",
    "    if (temp_max<Global_max):\n",
    "        new_max = temp_max\n",
    "    \n",
    "    return new_min,new_max\n",
    "\n"
   ],
   "outputs": [],
   "metadata": {}
  },
  {
   "cell_type": "code",
   "execution_count": 11,
   "source": [
    "def ACO(A,p,alpha,beta,n,k,Q,random_loc,update):\n",
    "    \"\"\"\n",
    "    Finds optimal route using Ant Colony Optimisation techniques\n",
    "    \n",
    "    Inputs:\n",
    "        A           : Distance Matrix\n",
    "        p           : (scalar) evaporation rate\n",
    "        alpha       : (scalar) parameter that affects pheromone weighting\n",
    "        beta        : (scalar) parameter that affects distance weighting\n",
    "        n           : (scalar) number of interations to be performed\n",
    "        k           : (scalar) number of ants to be used\n",
    "        random_loc  : boolean variable that assigns agents to random nodes or not\n",
    "        update      : 'all' (all agents paths are updated to the pheromone matrix); 'best' (only best agent at each iteration is updated)\n",
    "        \n",
    "    Output:\n",
    "        dist        : the distance traveled by the last agent\n",
    "        path        : set of 2-tuples of route to be taken\n",
    "    \"\"\"\n",
    "\n",
    "    #Pheromone matrix#\n",
    "    X = np.ones((len(A),len(A)))\n",
    "    dist_global_max = None\n",
    "    \n",
    "\n",
    "    for i in range(0,n,1):\n",
    "\n",
    "        #pheromone update matrix#\n",
    "        C = np.zeros((len(A),len(A)))\n",
    "        dist_min = None\n",
    "        dist_max = None\n",
    "\n",
    "        #probability matrix#\n",
    "        P = updateProbMatrix(A,X,alpha,beta)\n",
    "\n",
    "        #constructing ant paths#\n",
    "        for j in range(0,k,1):\n",
    "            start = 0\n",
    "\n",
    "            #allows ants to be randomly distributed across graph#\n",
    "            if random_loc == True:\n",
    "                start = np.random.randint(len(A))\n",
    "\n",
    "\n",
    "            dist_temp,C_temp,isValid = ant_path(A,P,Q,start)\n",
    "\n",
    "            if update == 'all' and isValid == True:\n",
    "                C+= C_temp\n",
    "            \n",
    "            elif update == 'best' and isValid == True:\n",
    "\n",
    "                if dist_min != None:\n",
    "\n",
    "                    if dist_temp < dist_min:\n",
    "                        dist_min = dist_temp\n",
    "                        C = C_temp\n",
    "                else:\n",
    "                    dist_min = dist_temp\n",
    "                    C = C_temp\n",
    "            \n",
    "            elif update == 'threshold' and isValid == True:\n",
    "                \n",
    "                #TODO#\n",
    "                pass\n",
    "            \n",
    "        #updating pheromone#\n",
    "        \n",
    "        X = (1-p)*X + C\n",
    "        \n",
    "    \n",
    "    dist,path = final_walk(A,P)\n",
    "\n",
    "    while path[-1][1]!= 0 or len(path)!=len(A):\n",
    "        print('stuck')\n",
    "        dist,path = final_walk(A,P)\n",
    "    \n",
    "\n",
    "    return dist,path\n",
    "\n",
    "    "
   ],
   "outputs": [],
   "metadata": {}
  },
  {
   "cell_type": "markdown",
   "source": [
    "# Tools"
   ],
   "metadata": {}
  },
  {
   "cell_type": "code",
   "execution_count": 12,
   "source": [
    "def get_distance_matrix(path):\n",
    "\n",
    "        \"\"\"\n",
    "            Creates a distance matrix based on the data proved in path\n",
    "\n",
    "            Inputs:\n",
    "\n",
    "                path : the path to the text file containing information on each node\n",
    "            \n",
    "            Outputs:\n",
    "                A    : the distance matrix\n",
    "        \"\"\"\n",
    "        \n",
    "        with open(path) as reader :\n",
    "\n",
    "            first_lines = 0\n",
    "            i = 0\n",
    "            X = []\n",
    "\n",
    "            for lines in reader.readlines():\n",
    "\n",
    "                if(first_lines>5 and lines!='EOF' and lines!='EOF\\n'):\n",
    "                    \n",
    "                    stripped_line = lines.strip()\n",
    "                    list_line = stripped_line.split()\n",
    "                    w = [float(i) for i in list_line[1:]]\n",
    "                    X.append(w)\n",
    "\n",
    "                first_lines+=1\n",
    "        \n",
    "        X = np.array(X)\n",
    "        m,n = X.shape\n",
    "\n",
    "        A = []\n",
    "\n",
    "        for i in range(0,m,1):\n",
    "            u = X[i,:]\n",
    "            dist = []\n",
    "\n",
    "            for j in range(0,m,1):\n",
    "\n",
    "                if i!=j:\n",
    "                    v = X[j,:]\n",
    "                    d = distance.euclidean(u,v)\n",
    "                    dist.append(d)\n",
    "                else:\n",
    "                    dist.append(0)\n",
    "\n",
    "            A.append(dist)\n",
    "        \n",
    "        A = np.array(A)\n",
    "        return A"
   ],
   "outputs": [],
   "metadata": {}
  },
  {
   "cell_type": "markdown",
   "source": [
    "### Test 1"
   ],
   "metadata": {}
  },
  {
   "cell_type": "code",
   "execution_count": 14,
   "source": [
    "A = np.array([[0,5,2,200],[5,0,100,4],[2,100,0,3],[200,4,3,0]])\n",
    "p = 0.5\n",
    "alpha = 1\n",
    "beta = 4\n",
    "n = 4\n",
    "k = 3\n",
    "Q = 1\n",
    "dist,path = ACO(A,p,alpha,beta,n,k,Q,random_loc=True,update='best')\n",
    "\n",
    "print('\\n============================================\\n')\n",
    "print('path taken \\n')\n",
    "print(path)\n",
    "print('\\npath distance was:',dist)\n",
    "print('\\n============================================\\n')"
   ],
   "outputs": [
    {
     "output_type": "stream",
     "name": "stdout",
     "text": [
      "\n",
      "============================================\n",
      "\n",
      "path taken \n",
      "\n",
      "[[0, 2], [2, 3], [3, 1], [1, 0]]\n",
      "\n",
      "path distance was: 14\n",
      "\n",
      "============================================\n",
      "\n"
     ]
    }
   ],
   "metadata": {}
  },
  {
   "cell_type": "markdown",
   "source": [
    "## Test 2 "
   ],
   "metadata": {}
  },
  {
   "cell_type": "code",
   "execution_count": 16,
   "source": [
    "#TEST 2#\n",
    "path = 'Data/st70/st70_tsp.txt'\n",
    "A = get_distance_matrix(path)\n",
    "p = 0.6\n",
    "alpha = 2\n",
    "beta = 1\n",
    "n = 700\n",
    "k = 50\n",
    "Q = 1\n",
    "dist,path = ACO(A,p,alpha,beta,n,k,Q,random_loc=True,update = 'all')\n",
    "\n",
    "print('\\n============================================\\n')\n",
    "print('path taken \\n')\n",
    "print(path)\n",
    "print('\\npath distance was:',dist)\n",
    "print('\\n============================================\\n')"
   ],
   "outputs": [
    {
     "output_type": "stream",
     "name": "stdout",
     "text": [
      "\n",
      "============================================\n",
      "\n",
      "path taken \n",
      "\n",
      "[[0, 46], [46, 15], [15, 36], [36, 57], [57, 49], [49, 4], [4, 9], [9, 51], [51, 59], [59, 11], [11, 33], [33, 20], [20, 61], [61, 53], [53, 32], [32, 47], [47, 66], [66, 55], [55, 10], [10, 64], [64, 50], [50, 63], [63, 52], [52, 65], [65, 21], [21, 62], [62, 58], [58, 37], [37, 22], [22, 5], [5, 41], [41, 17], [17, 3], [3, 39], [39, 60], [60, 38], [38, 44], [44, 24], [24, 45], [45, 26], [26, 8], [8, 43], [43, 67], [67, 29], [29, 19], [19, 13], [13, 54], [54, 48], [48, 25], [25, 7], [7, 27], [27, 2], [2, 31], [31, 6], [6, 1], [1, 18], [18, 23], [23, 14], [14, 56], [56, 34], [34, 30], [30, 68], [68, 69], [69, 28], [28, 12], [12, 35], [35, 16], [16, 40], [40, 42], [42, 0]]\n",
      "\n",
      "path distance was: 966.3277528384649\n",
      "\n",
      "============================================\n",
      "\n"
     ]
    }
   ],
   "metadata": {}
  },
  {
   "cell_type": "code",
   "execution_count": null,
   "source": [],
   "outputs": [],
   "metadata": {}
  }
 ]
}