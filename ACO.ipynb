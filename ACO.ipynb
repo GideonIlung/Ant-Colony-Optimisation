{
 "metadata": {
  "language_info": {
   "codemirror_mode": {
    "name": "ipython",
    "version": 3
   },
   "file_extension": ".py",
   "mimetype": "text/x-python",
   "name": "python",
   "nbconvert_exporter": "python",
   "pygments_lexer": "ipython3",
   "version": "3.7.4"
  },
  "orig_nbformat": 2,
  "kernelspec": {
   "name": "python3",
   "display_name": "Python 3.7.4 64-bit ('base': conda)"
  },
  "interpreter": {
   "hash": "786c5b06eff5c0cb733e4a5e8effef860a5cdaa3d5907488cb807932d0674efa"
  }
 },
 "nbformat": 4,
 "nbformat_minor": 2,
 "cells": [
  {
   "cell_type": "code",
   "execution_count": 1,
   "metadata": {},
   "outputs": [],
   "source": [
    "#Imports\n",
    "import numpy as np\n",
    "import random\n",
    "import pandas as pd\n",
    "from ACO import *\n",
    "from scipy.spatial import distance"
   ]
  },
  {
   "source": [
    "# Ant Colony Optimisation Algorithm"
   ],
   "cell_type": "markdown",
   "metadata": {}
  },
  {
   "source": [
    "## <center> Probability matrix </center>"
   ],
   "cell_type": "markdown",
   "metadata": {}
  },
  {
   "source": [
    "Probability between vertices is given by:\n",
    "\\begin{equation*} P_{ij} = \\dfrac{(\\tau_{ij})^\\alpha (n(c_{ij}))^\\beta}{\\sum_{j=0}^{m} (\\tau_{ij})^\\alpha (n(c_{ij}))^\\beta }  \\end{equation*}\n",
    "\n",
    "\n",
    "where $c_{ij}$ is the length of the edge \n",
    "\n",
    "$\\tau_{ij}$ is the pheromone count on the edge $c_{ij}$\n",
    "\n",
    "$n(c_{ij}) = \\dfrac{1}{c_{ij}}$\n",
    "\n",
    "can be interpreted as the Probability of going to node j from i"
   ],
   "cell_type": "markdown",
   "metadata": {}
  },
  {
   "cell_type": "code",
   "execution_count": 4,
   "metadata": {},
   "outputs": [],
   "source": [
    "def updateProbMatrix(A,P,alpha,beta):\n",
    "    \"\"\"\n",
    "        Generates the probability matrix based on the pheromone and distance matrix\n",
    "\n",
    "        Inputs\n",
    "            A     : the distance matrix\n",
    "            P     : the Pheromone Matrix\n",
    "            alpha : the Pheromone weight value\n",
    "            beta  : the distance weight value\n",
    "\n",
    "        Outputs\n",
    "            X     : the probability matrix\n",
    "    \"\"\"\n",
    "\n",
    "    n = len(A)\n",
    "\n",
    "    X = np.zeros((n,n))\n",
    "\n",
    "    for i in range(0,n,1):\n",
    "\n",
    "        #calculating the total weight across path\n",
    "        deno = 0\n",
    "\n",
    "        for j in range(0,n,1):\n",
    "\n",
    "            if(A[i,j]!=0):\n",
    "                deno += (P[i,j]**alpha)*((1/A[i,j])**beta)\n",
    "\n",
    "        #updating probability matrix\n",
    "        for j in range(0,n,1):\n",
    "            \n",
    "            if i!=j and A[i,j]!=0:\n",
    "                X[i,j] = (P[i,j]**alpha)*((1/A[i,j])**beta)/deno\n",
    "            else:\n",
    "                X[i,j] = 0\n",
    "    \n",
    "    return X"
   ]
  },
  {
   "cell_type": "code",
   "execution_count": 5,
   "metadata": {},
   "outputs": [
    {
     "output_type": "execute_result",
     "data": {
      "text/plain": [
       "array([[0.        , 0.28368794, 0.70921986, 0.0070922 ],\n",
       "       [0.43478261, 0.        , 0.02173913, 0.54347826],\n",
       "       [0.59288538, 0.01185771, 0.        , 0.39525692],\n",
       "       [0.00849858, 0.42492918, 0.56657224, 0.        ]])"
      ]
     },
     "metadata": {},
     "execution_count": 5
    }
   ],
   "source": [
    "#TESTING#\n",
    "A = np.array([[0,5,2,200],[5,0,100,4],[2,100,0,3],[200,4,3,0]])\n",
    "P = np.ones((4,4))\n",
    "alpha = 1\n",
    "beta = 1\n",
    "Prob = updateProbMatrix(A,P,alpha,beta)\n",
    "Prob"
   ]
  },
  {
   "source": [
    "## <center> Accumulator</center>\n",
    "\n",
    "generates the Accumulator vector. which is basically the sum of itself and all the probabilities to the right of it\n",
    "\n",
    "for example given the probabilities $v = [0.76,0.19,0.05]$ \n",
    "\n",
    "the Accumulative vector will be $u = [1,0.24,0.05]$\n",
    "\n",
    "after this a random number will be generated. $r \\in [0,1]$\n",
    "\n",
    "then the function will return the index in which r is inbetween the vector u\n",
    "\n",
    "for example if $ 0.24 \\leq r \\leq 1 $ the function will return 0"
   ],
   "cell_type": "markdown",
   "metadata": {}
  },
  {
   "cell_type": "code",
   "execution_count": 6,
   "metadata": {},
   "outputs": [],
   "source": [
    "def accumulator(v):\n",
    "    \"\"\"\n",
    "        Creates the accumulator vector from the input given\n",
    "    \"\"\"\n",
    "\n",
    "    u = []\n",
    "\n",
    "    for i in range(len(v)):\n",
    "        temp = sum(v[i:])\n",
    "        u.append(temp)\n",
    "\n",
    "    r = random.uniform(0,u[0])\n",
    "    index = -1\n",
    "\n",
    "    for i in range(0,len(u),1):\n",
    "        \n",
    "        if i!=len(u)-1:\n",
    "            if (r<=u[i]) and (r>u[i+1]):\n",
    "                index = i\n",
    "                break\n",
    "        else:\n",
    "            if (r>0) and (r<=u[-1]):\n",
    "                index = i\n",
    "\n",
    "    return index"
   ]
  },
  {
   "cell_type": "code",
   "execution_count": 7,
   "metadata": {},
   "outputs": [
    {
     "output_type": "execute_result",
     "data": {
      "text/plain": [
       "2"
      ]
     },
     "metadata": {},
     "execution_count": 7
    }
   ],
   "source": [
    "#TESTING\n",
    "#v = [0.76,0.19,0.05]\n",
    "v = [0,0.28368794,0.70921986,0.0070922]\n",
    "accumulator(v)"
   ]
  },
  {
   "cell_type": "code",
   "execution_count": 8,
   "metadata": {},
   "outputs": [],
   "source": [
    "def ant_path(A,Prob):\n",
    "    \"\"\"\n",
    "        Calculates the path the ant with take\n",
    "\n",
    "        Inputs:\n",
    "            A    : the Distance matrix\n",
    "            Prob : the probability matrix\n",
    "\n",
    "        output:\n",
    "            C    : a matrix with 1/d at the edges the ant passed. where d is the distance traveled \n",
    "    \"\"\"\n",
    "\n",
    "    n = len(A)\n",
    "    P = np.copy(Prob)\n",
    "    C = np.zeros((n,n))\n",
    "    distance = 0\n",
    "    path = []\n",
    "    i = 0\n",
    "    count = 0\n",
    "\n",
    "    while count<n:\n",
    "\n",
    "        v = P[i,:]\n",
    "        \n",
    "        #reducing the probability of going to start#\n",
    "        if i!=0 and count<n-1:\n",
    "            v[0] = np.min(v[np.nonzero(v)])/n\n",
    "\n",
    "        j = accumulator(v)\n",
    "        distance+= A[i][j]\n",
    "        path.append([i,j])\n",
    "\n",
    "        #making sure ant doesnt visit same node twice\n",
    "        if i!=0:\n",
    "            P[:,i] = 0\n",
    "\n",
    "        i = j\n",
    "        count+=1\n",
    "\n",
    "    for x in range(0,len(path),1):\n",
    "        [i,j] = path[x]\n",
    "        C[i,j] += 1/distance   \n",
    "    return C     "
   ]
  },
  {
   "cell_type": "code",
   "execution_count": 9,
   "metadata": {},
   "outputs": [
    {
     "output_type": "execute_result",
     "data": {
      "text/plain": [
       "array([[0.        , 0.        , 0.00325733, 0.00325733],\n",
       "       [0.00325733, 0.        , 0.        , 0.        ],\n",
       "       [0.        , 0.00325733, 0.        , 0.        ],\n",
       "       [0.        , 0.        , 0.        , 0.        ]])"
      ]
     },
     "metadata": {},
     "execution_count": 9
    }
   ],
   "source": [
    "#TESTING#\n",
    "A = np.array([[0,5,2,200],[5,0,100,4],[2,100,0,3],[200,4,3,0]])\n",
    "P = np.ones((4,4))\n",
    "alpha = 1\n",
    "beta = 1\n",
    "Prob = updateProbMatrix(A,P,alpha,beta)\n",
    "ant_path(A,Prob)"
   ]
  },
  {
   "cell_type": "code",
   "execution_count": 10,
   "metadata": {},
   "outputs": [],
   "source": [
    "def final_walk(A,Prob):\n",
    "    \"\"\"\n",
    "        Calculates the path the last ant with take\n",
    "\n",
    "        Inputs:\n",
    "            A    : the Distance matrix\n",
    "            Prob : the probability matrix\n",
    "\n",
    "        output:\n",
    "            C    : a matrix with 1/d at the edges the ant passed. where d is the distance traveled \n",
    "    \"\"\"\n",
    "\n",
    "    n = len(A)\n",
    "    P = np.copy(Prob)\n",
    "    C = np.zeros((n,n))\n",
    "    distance = 0\n",
    "    path = []\n",
    "    i = 0\n",
    "    count = 0\n",
    "\n",
    "    while count<n:\n",
    "\n",
    "        v = P[i,:]\n",
    "        \n",
    "        #reducing the probability of going to start#\n",
    "        if i!=0 and count<n-1:\n",
    "            v[0] = np.min(v[np.nonzero(v)])/n\n",
    "\n",
    "        j = accumulator(v)\n",
    "        distance+= A[i][j]\n",
    "\n",
    "        if j!=-1:\n",
    "            path.append([i,j])\n",
    "\n",
    "        if j == 0:\n",
    "            break\n",
    "        #making sure ant doesnt visit same node twice\n",
    "        if i!=0:\n",
    "            P[:,i] = 0\n",
    "\n",
    "        # P[:,i] = 0\n",
    "        i = j\n",
    "        count+=1\n",
    "\n",
    "    return distance,path"
   ]
  },
  {
   "cell_type": "code",
   "execution_count": 11,
   "metadata": {},
   "outputs": [],
   "source": [
    "def ACO(A,p,alpha,beta,n,k):\n",
    "    \"\"\"\n",
    "    Finds optimal route using Ant Colony Optimisation techniques\n",
    "    \n",
    "    Inputs:\n",
    "        A: Distance Matrix\n",
    "        p: (scalar) evaporation rate\n",
    "        alpha: (scalar) parameter that affects pheromone weighting\n",
    "        beta: (scalar) parameter that affects distance weighting\n",
    "        n: (scalar) number of interations to be performed\n",
    "        k: (scalar) number of ants to be used\n",
    "        \n",
    "    Output:\n",
    "        path: set of 2-tuples of route to be taken\n",
    "    \"\"\"\n",
    "\n",
    "    #Pheromone matrix#\n",
    "    X = np.ones((len(A),len(A)))\n",
    "\n",
    "    for i in range(0,n,1):\n",
    "\n",
    "        #pheromone update matrix#\n",
    "        C = np.zeros((len(A),len(A)))\n",
    "\n",
    "        #probability matrix#\n",
    "        P = updateProbMatrix(A,X,alpha,beta)\n",
    "\n",
    "        #constructing ant paths#\n",
    "        for j in range(0,k,1):\n",
    "            C+= ant_path(A,P)\n",
    "        \n",
    "        #updating pheromone#\n",
    "        X = (1-p)*X + C\n",
    "    \n",
    "    dist,path = final_walk(A,P)\n",
    "\n",
    "    while path[-1][1]!= 0 or len(path)!=len(A):\n",
    "        dist,path = final_walk(A,P)\n",
    "\n",
    "    print('\\n============================================\\n')\n",
    "    print('path taken \\n')\n",
    "    print(path)\n",
    "    print('\\npath distance was:',dist)\n",
    "    print('\\n============================================\\n')"
   ]
  },
  {
   "source": [
    "### Test 1"
   ],
   "cell_type": "markdown",
   "metadata": {}
  },
  {
   "cell_type": "code",
   "execution_count": 12,
   "metadata": {},
   "outputs": [
    {
     "output_type": "stream",
     "name": "stdout",
     "text": [
      "\n============================================\n\npath taken \n\n[[0, 2], [2, 3], [3, 1], [1, 0]]\n\npath distance was: 14\n\n============================================\n\n"
     ]
    }
   ],
   "source": [
    "A = np.array([[0,5,2,200],[5,0,100,4],[2,100,0,3],[200,4,3,0]])\n",
    "p = 0.5\n",
    "alpha = 1\n",
    "beta = 4\n",
    "n = 4\n",
    "k = 3\n",
    "ACO(A,p,alpha,beta,n,k)"
   ]
  },
  {
   "cell_type": "code",
   "execution_count": 14,
   "metadata": {},
   "outputs": [
    {
     "output_type": "error",
     "ename": "TypeError",
     "evalue": "ACO() missing 6 required positional arguments: 'A', 'p', 'alpha', 'beta', 'n', and 'k'",
     "traceback": [
      "\u001b[0;31m---------------------------------------------------------------------------\u001b[0m",
      "\u001b[0;31mTypeError\u001b[0m                                 Traceback (most recent call last)",
      "\u001b[0;32m<ipython-input-14-c08dd3649650>\u001b[0m in \u001b[0;36m<module>\u001b[0;34m\u001b[0m\n\u001b[1;32m      5\u001b[0m \u001b[0mn\u001b[0m \u001b[0;34m=\u001b[0m \u001b[0;36m4\u001b[0m\u001b[0;34m\u001b[0m\u001b[0;34m\u001b[0m\u001b[0m\n\u001b[1;32m      6\u001b[0m \u001b[0mk\u001b[0m \u001b[0;34m=\u001b[0m \u001b[0;36m3\u001b[0m\u001b[0;34m\u001b[0m\u001b[0;34m\u001b[0m\u001b[0m\n\u001b[0;32m----> 7\u001b[0;31m \u001b[0mmodel\u001b[0m \u001b[0;34m=\u001b[0m \u001b[0mACO\u001b[0m\u001b[0;34m(\u001b[0m\u001b[0;34m)\u001b[0m\u001b[0;34m\u001b[0m\u001b[0;34m\u001b[0m\u001b[0m\n\u001b[0m\u001b[1;32m      8\u001b[0m \u001b[0mmodel\u001b[0m\u001b[0;34m.\u001b[0m\u001b[0mACO\u001b[0m\u001b[0;34m(\u001b[0m\u001b[0mA\u001b[0m\u001b[0;34m,\u001b[0m\u001b[0mp\u001b[0m\u001b[0;34m,\u001b[0m\u001b[0malpha\u001b[0m\u001b[0;34m,\u001b[0m\u001b[0mbeta\u001b[0m\u001b[0;34m,\u001b[0m\u001b[0mn\u001b[0m\u001b[0;34m,\u001b[0m\u001b[0mk\u001b[0m\u001b[0;34m)\u001b[0m\u001b[0;34m\u001b[0m\u001b[0;34m\u001b[0m\u001b[0m\n",
      "\u001b[0;31mTypeError\u001b[0m: ACO() missing 6 required positional arguments: 'A', 'p', 'alpha', 'beta', 'n', and 'k'"
     ]
    }
   ],
   "source": [
    "A = np.array([[0,5,2,200],[5,0,100,4],[2,100,0,3],[200,4,3,0]])\n",
    "p = 0.5\n",
    "alpha = 1\n",
    "beta = 4\n",
    "n = 4\n",
    "k = 3\n",
    "model = ACO()\n",
    "model.ACO(A,p,alpha,beta,n,k)"
   ]
  },
  {
   "source": [
    "### Test 2"
   ],
   "cell_type": "markdown",
   "metadata": {}
  },
  {
   "cell_type": "code",
   "execution_count": 22,
   "metadata": {},
   "outputs": [
    {
     "output_type": "stream",
     "name": "stdout",
     "text": [
      "[[ 0  3  5 48 48  8  8  5  5  3  3  0  3  5  8  8  5]\n [ 3  0  3 48 48  8  8  5  5  0  0  3  0  3  8  8  5]\n [ 5  3  0 72 72 48 48 24 24  3  3  5  3  0 48 48 24]\n [48 48 74  0  0  6  6 12 12 48 48 48 48 74  6  6 12]\n [48 48 74  0  0  6  6 12 12 48 48 48 48 74  6  6 12]\n [ 8  8 50  6  6  0  0  8  8  8  8  8  8 50  0  0  8]\n [ 8  8 50  6  6  0  0  8  8  8  8  8  8 50  0  0  8]\n [ 5  5 26 12 12  8  8  0  0  5  5  5  5 26  8  8  0]\n [ 5  5 26 12 12  8  8  0  0  5  5  5  5 26  8  8  0]\n [ 3  0  3 48 48  8  8  5  5  0  0  3  0  3  8  8  5]\n [ 3  0  3 48 48  8  8  5  5  0  0  3  0  3  8  8  5]\n [ 0  3  5 48 48  8  8  5  5  3  3  0  3  5  8  8  5]\n [ 3  0  3 48 48  8  8  5  5  0  0  3  0  3  8  8  5]\n [ 5  3  0 72 72 48 48 24 24  3  3  5  3  0 48 48 24]\n [ 8  8 50  6  6  0  0  8  8  8  8  8  8 50  0  0  8]\n [ 8  8 50  6  6  0  0  8  8  8  8  8  8 50  0  0  8]\n [ 5  5 26 12 12  8  8  0  0  5  5  5  5 26  8  8  0]]\n"
     ]
    }
   ],
   "source": [
    "data = pd.read_csv('Data/br17.csv',delim_whitespace=True)\n",
    "X = data.to_numpy()\n",
    "#formating data#\n",
    "for i  in range(len(X)):\n",
    "    X[i][i] = 0\n",
    "print(X)"
   ]
  },
  {
   "cell_type": "code",
   "execution_count": 25,
   "metadata": {},
   "outputs": [
    {
     "output_type": "stream",
     "name": "stdout",
     "text": [
      "\n============================================\n\npath taken \n\n[[0, 9], [9, 11], [11, 10], [10, 13], [13, 1], [1, 7], [7, 6], [6, 3], [3, 15], [15, 8], [8, 5], [5, 4], [4, 14], [14, 16], [16, 12], [12, 2], [2, 0]]\n\npath distance was: 89\n\n============================================\n\n"
     ]
    }
   ],
   "source": [
    "#p = 0.3;alpha=30;beta=40;n=4;k=3#\n",
    "A = X\n",
    "p = 0.3\n",
    "alpha = 10\n",
    "beta = 5\n",
    "n = 100\n",
    "k = 7\n",
    "ACO(A,p,alpha,beta,n,k)"
   ]
  },
  {
   "cell_type": "code",
   "execution_count": null,
   "metadata": {},
   "outputs": [],
   "source": []
  }
 ]
}