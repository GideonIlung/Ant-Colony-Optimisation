{
 "metadata": {
  "language_info": {
   "codemirror_mode": {
    "name": "ipython",
    "version": 3
   },
   "file_extension": ".py",
   "mimetype": "text/x-python",
   "name": "python",
   "nbconvert_exporter": "python",
   "pygments_lexer": "ipython3",
   "version": "3.7.4"
  },
  "orig_nbformat": 4,
  "kernelspec": {
   "name": "python3",
   "display_name": "Python 3.7.4 64-bit ('base': conda)"
  },
  "interpreter": {
   "hash": "786c5b06eff5c0cb733e4a5e8effef860a5cdaa3d5907488cb807932d0674efa"
  }
 },
 "nbformat": 4,
 "nbformat_minor": 2,
 "cells": [
  {
   "cell_type": "code",
   "execution_count": 1,
   "metadata": {},
   "outputs": [],
   "source": [
    "#IMPORTS#\n",
    "from ACO import *\n",
    "import numpy as np\n",
    "model = ACO()\n",
    "tools = Tools()"
   ]
  },
  {
   "source": [
    "## <center> a280 </center>"
   ],
   "cell_type": "markdown",
   "metadata": {}
  },
  {
   "cell_type": "code",
   "execution_count": 2,
   "metadata": {},
   "outputs": [],
   "source": [
    "path = 'Data/a280/a280_tsp.txt'\n",
    "A = tools.get_distance_matrix(path)\n",
    "dist,path = model.ACO(A,p= 0.5,alpha = 10,beta= 20,n= 100,k = 10)\n",
    "\n",
    "print('============================================================')\n",
    "print('\\n distance traveled : ', dist,'\\n')\n",
    "print('\\n============================================================\\n')\n",
    "print('Path \\n')\n",
    "print(path)"
   ]
  },
  {
   "cell_type": "code",
   "execution_count": 3,
   "metadata": {},
   "outputs": [
    {
     "output_type": "stream",
     "name": "stdout",
     "text": [
      "[[ 0.         20.         24.08318916 ... 43.26661531 34.40930107\n  17.88854382]\n [20.          0.         18.43908891 ... 36.22154055 28.\n   8.94427191]\n [24.08318916 18.43908891  0.         ... 19.6977156  10.77032961\n  10.        ]\n ...\n [43.26661531 36.22154055 19.6977156  ...  0.          8.94427191\n  29.12043956]\n [34.40930107 28.         10.77032961 ...  8.94427191  0.\n  20.39607805]\n [17.88854382  8.94427191 10.         ... 29.12043956 20.39607805\n   0.        ]]\n"
     ]
    }
   ],
   "source": []
  },
  {
   "cell_type": "code",
   "execution_count": null,
   "metadata": {},
   "outputs": [],
   "source": []
  }
 ]
}