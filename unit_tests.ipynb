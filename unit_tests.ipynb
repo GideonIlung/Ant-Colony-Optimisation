{
 "metadata": {
  "language_info": {
   "codemirror_mode": {
    "name": "ipython",
    "version": 3
   },
   "file_extension": ".py",
   "mimetype": "text/x-python",
   "name": "python",
   "nbconvert_exporter": "python",
   "pygments_lexer": "ipython3",
   "version": "3.7.4"
  },
  "orig_nbformat": 4,
  "kernelspec": {
   "name": "python3",
   "display_name": "Python 3.7.4 64-bit ('base': conda)"
  },
  "interpreter": {
   "hash": "786c5b06eff5c0cb733e4a5e8effef860a5cdaa3d5907488cb807932d0674efa"
  }
 },
 "nbformat": 4,
 "nbformat_minor": 2,
 "cells": [
  {
   "cell_type": "code",
   "execution_count": 1,
   "metadata": {},
   "outputs": [],
   "source": [
    "#IMPORTS#\n",
    "#from ACO import *\n",
    "import numpy as np\n",
    "#model = ACO()\n",
    "#tools = Tools()"
   ]
  },
  {
   "source": [
    "## <center> st70 </center>"
   ],
   "cell_type": "markdown",
   "metadata": {}
  },
  {
   "cell_type": "code",
   "execution_count": 5,
   "metadata": {},
   "outputs": [
    {
     "output_type": "stream",
     "name": "stdout",
     "text": [
      "============================================================\n\n distance traveled :  805.5312008437772 \n\n\n============================================================\n\nPath \n\n[[0, 35], [35, 22], [22, 46], [46, 15], [15, 36], [36, 57], [57, 49], [49, 9], [9, 51], [51, 59], [59, 11], [11, 20], [20, 33], [33, 32], [32, 53], [53, 61], [61, 47], [47, 66], [66, 55], [55, 64], [64, 50], [50, 10], [10, 63], [63, 4], [4, 52], [52, 65], [65, 62], [62, 21], [21, 58], [58, 37], [37, 68], [68, 30], [30, 12], [12, 28], [28, 69], [69, 34], [34, 56], [56, 14], [14, 23], [23, 1], [1, 6], [6, 31], [31, 2], [2, 7], [7, 27], [27, 25], [25, 48], [48, 54], [54, 18], [18, 3], [3, 17], [17, 41], [41, 5], [5, 40], [40, 42], [42, 16], [16, 8], [8, 39], [39, 60], [60, 38], [38, 44], [44, 24], [24, 45], [45, 26], [26, 67], [67, 43], [43, 29], [29, 19], [19, 13], [13, 0]]\n"
     ]
    }
   ],
   "source": [
    "path = 'Data/st70/st70_tsp.txt'\n",
    "A = tools.get_distance_matrix(path)\n",
    "dist,path = model.ACO(A,p= 0.7,alpha = 20,beta=30,n= 1000,k = 40)\n",
    "\n",
    "print('============================================================')\n",
    "print('\\n distance traveled : ', dist,'\\n')\n",
    "print('\\n============================================================\\n')\n",
    "print('Path \\n')\n",
    "print(path)"
   ]
  },
  {
   "cell_type": "code",
   "execution_count": 3,
   "metadata": {},
   "outputs": [
    {
     "output_type": "execute_result",
     "data": {
      "text/plain": [
       "70"
      ]
     },
     "metadata": {},
     "execution_count": 3
    }
   ],
   "source": [
    "len(path)"
   ]
  },
  {
   "cell_type": "code",
   "execution_count": 5,
   "metadata": {},
   "outputs": [
    {
     "output_type": "stream",
     "name": "stdout",
     "text": [
      "division by zero\n5\n"
     ]
    }
   ],
   "source": [
    "try :\n",
    "    s = 5\n",
    "    x = 1/0\n",
    "\n",
    "except Exception as e:\n",
    "    print(e)\n",
    "    print(s)"
   ]
  },
  {
   "cell_type": "code",
   "execution_count": null,
   "metadata": {},
   "outputs": [],
   "source": []
  }
 ]
}